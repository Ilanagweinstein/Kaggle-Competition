{
  "nbformat": 4,
  "nbformat_minor": 0,
  "metadata": {
    "kernelspec": {
      "display_name": "Python 3",
      "language": "python",
      "name": "python3"
    },
    "language_info": {
      "codemirror_mode": {
        "name": "ipython",
        "version": 3
      },
      "file_extension": ".py",
      "mimetype": "text/x-python",
      "name": "python",
      "nbconvert_exporter": "python",
      "pygments_lexer": "ipython3",
      "version": "3.7.3"
    },
    "colab": {
      "name": "Cadent_Sentiment_Analysis_Bert.ipynb",
      "provenance": [],
      "collapsed_sections": [
        "tpnioR0TLaq4",
        "G19nqCPrLars",
        "b5qQXz7RLar-"
      ],
      "include_colab_link": true
    },
    "accelerator": "GPU"
  },
  "cells": [
    {
      "cell_type": "markdown",
      "metadata": {
        "id": "view-in-github",
        "colab_type": "text"
      },
      "source": [
        "<a href=\"https://colab.research.google.com/github/Ilanagweinstein/Kaggle-Competition/blob/master/Cadent_Sentiment_Analysis_Bert_final.ipynb\" target=\"_parent\"><img src=\"https://colab.research.google.com/assets/colab-badge.svg\" alt=\"Open In Colab\"/></a>"
      ]
    },
    {
      "cell_type": "markdown",
      "metadata": {
        "id": "PwujU93ZUC2d",
        "colab_type": "text"
      },
      "source": [
        "## Kaggle Sentiment Analysis on Movie Reviews ##"
      ]
    },
    {
      "cell_type": "markdown",
      "metadata": {
        "id": "GIVMY4-BdK-b",
        "colab_type": "text"
      },
      "source": [
        "**Loading transformers, data and initializing GPU**"
      ]
    },
    {
      "cell_type": "code",
      "metadata": {
        "id": "jNdugWnaLapH",
        "colab_type": "code",
        "colab": {}
      },
      "source": [
        "!pip3 install transformers"
      ],
      "execution_count": 0,
      "outputs": []
    },
    {
      "cell_type": "code",
      "metadata": {
        "id": "wcnIFcqkLapN",
        "colab_type": "code",
        "colab": {}
      },
      "source": [
        "import pandas as pd\n",
        "import numpy as np\n",
        "import os\n",
        "\n",
        "import warnings\n",
        "warnings.filterwarnings('ignore')\n",
        "\n",
        "import transformers"
      ],
      "execution_count": 0,
      "outputs": []
    },
    {
      "cell_type": "code",
      "metadata": {
        "id": "Ebz8IXtKLuU8",
        "colab_type": "code",
        "outputId": "0640843c-bb6a-4aad-9ded-c2d0541dc46a",
        "colab": {
          "base_uri": "https://localhost:8080/",
          "height": 34
        }
      },
      "source": [
        "import tensorflow as tf# Get the GPU device name.\n",
        "device_name = tf.test.gpu_device_name()# The device name should look like the following:\n",
        "if device_name == '/device:GPU:0':\n",
        "  print('Found GPU at: {}'.format(device_name))\n",
        "else:\n",
        "  raise SystemError('GPU device not found')"
      ],
      "execution_count": 0,
      "outputs": [
        {
          "output_type": "stream",
          "text": [
            "Found GPU at: /device:GPU:0\n"
          ],
          "name": "stdout"
        }
      ]
    },
    {
      "cell_type": "code",
      "metadata": {
        "id": "RMwqMWdgbZ0W",
        "colab_type": "code",
        "outputId": "8dd2bcb2-abe5-42c4-a5fe-a300fe36ae56",
        "colab": {
          "base_uri": "https://localhost:8080/",
          "height": 51
        }
      },
      "source": [
        "import torch# If there's a GPU available...\n",
        "if torch.cuda.is_available():  # Tell PyTorch to use the GPU. \n",
        "  device = torch.device(\"cuda\") \n",
        "  print('There are %d GPU(s) available.' % torch.cuda.device_count()) \n",
        "  print('We will use the GPU:', torch.cuda.get_device_name(0))# If not...\n",
        "else:\n",
        "  print('No GPU available, using the CPU instead.')\n",
        "  device = torch.device(\"cpu\")"
      ],
      "execution_count": 0,
      "outputs": [
        {
          "output_type": "stream",
          "text": [
            "There are 1 GPU(s) available.\n",
            "We will use the GPU: Tesla T4\n"
          ],
          "name": "stdout"
        }
      ]
    },
    {
      "cell_type": "code",
      "metadata": {
        "id": "WoF8f73IeOdR",
        "colab_type": "code",
        "colab": {}
      },
      "source": [
        "!pip install wget"
      ],
      "execution_count": 0,
      "outputs": []
    },
    {
      "cell_type": "code",
      "metadata": {
        "id": "vLnGt1Ypfe30",
        "colab_type": "code",
        "colab": {}
      },
      "source": [
        "! pip install -q kaggle"
      ],
      "execution_count": 0,
      "outputs": []
    },
    {
      "cell_type": "code",
      "metadata": {
        "id": "YdAmiWHNhpt3",
        "colab_type": "code",
        "outputId": "a5eb9b17-6b22-4a94-c424-a265f73a0844",
        "colab": {
          "resources": {
            "http://localhost:8080/nbextensions/google.colab/files.js": {
              "data": "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",
              "ok": true,
              "headers": [
                [
                  "content-type",
                  "application/javascript"
                ]
              ],
              "status": 200,
              "status_text": ""
            }
          },
          "base_uri": "https://localhost:8080/",
          "height": 71
        }
      },
      "source": [
        "from google.colab import files\n",
        "uploaded = files.upload()"
      ],
      "execution_count": 0,
      "outputs": [
        {
          "output_type": "display_data",
          "data": {
            "text/html": [
              "\n",
              "     <input type=\"file\" id=\"files-c1d55b90-43cb-4e5b-a3b7-a25d63b2e14e\" name=\"files[]\" multiple disabled />\n",
              "     <output id=\"result-c1d55b90-43cb-4e5b-a3b7-a25d63b2e14e\">\n",
              "      Upload widget is only available when the cell has been executed in the\n",
              "      current browser session. Please rerun this cell to enable.\n",
              "      </output>\n",
              "      <script src=\"/nbextensions/google.colab/files.js\"></script> "
            ],
            "text/plain": [
              "<IPython.core.display.HTML object>"
            ]
          },
          "metadata": {
            "tags": []
          }
        },
        {
          "output_type": "stream",
          "text": [
            "Saving kaggle.json to kaggle.json\n"
          ],
          "name": "stdout"
        }
      ]
    },
    {
      "cell_type": "code",
      "metadata": {
        "id": "0ELHl9k5ldpn",
        "colab_type": "code",
        "outputId": "50e203fa-9955-4fc1-df24-38eec37fec8f",
        "colab": {
          "base_uri": "https://localhost:8080/",
          "height": 34
        }
      },
      "source": [
        "! mkdir ~/.kaggle"
      ],
      "execution_count": 0,
      "outputs": [
        {
          "output_type": "stream",
          "text": [
            "mkdir: cannot create directory ‘/root/.kaggle’: File exists\n"
          ],
          "name": "stdout"
        }
      ]
    },
    {
      "cell_type": "code",
      "metadata": {
        "id": "E-NWSV-4lgUo",
        "colab_type": "code",
        "colab": {}
      },
      "source": [
        "! cp kaggle.json ~/.kaggle/"
      ],
      "execution_count": 0,
      "outputs": []
    },
    {
      "cell_type": "code",
      "metadata": {
        "id": "zfMYpZGMlj61",
        "colab_type": "code",
        "colab": {}
      },
      "source": [
        "! chmod 600 ~/.kaggle/kaggle.json"
      ],
      "execution_count": 0,
      "outputs": []
    },
    {
      "cell_type": "code",
      "metadata": {
        "id": "Zse9CUj_lp-K",
        "colab_type": "code",
        "outputId": "872073ef-28c2-431b-c3d6-4f7fe054857c",
        "colab": {
          "base_uri": "https://localhost:8080/",
          "height": 187
        }
      },
      "source": [
        "!kaggle competitions download -c sentiment-analysis-on-movie-reviews"
      ],
      "execution_count": 0,
      "outputs": [
        {
          "output_type": "stream",
          "text": [
            "Warning: Looks like you're using an outdated API Version, please consider updating (server 1.5.6 / client 1.5.4)\n",
            "Downloading test.tsv.zip to /content\n",
            "  0% 0.00/494k [00:00<?, ?B/s]\n",
            "100% 494k/494k [00:00<00:00, 68.0MB/s]\n",
            "Downloading train.tsv.zip to /content\n",
            "  0% 0.00/1.28M [00:00<?, ?B/s]\n",
            "100% 1.28M/1.28M [00:00<00:00, 85.7MB/s]\n",
            "Downloading sampleSubmission.csv to /content\n",
            "  0% 0.00/583k [00:00<?, ?B/s]\n",
            "100% 583k/583k [00:00<00:00, 82.9MB/s]\n"
          ],
          "name": "stdout"
        }
      ]
    },
    {
      "cell_type": "code",
      "metadata": {
        "id": "0U27nMTJl0X0",
        "colab_type": "code",
        "outputId": "365c8921-a254-481a-ba68-08ec8fe7f729",
        "colab": {
          "base_uri": "https://localhost:8080/",
          "height": 51
        }
      },
      "source": [
        "!unzip test.tsv.zip"
      ],
      "execution_count": 0,
      "outputs": [
        {
          "output_type": "stream",
          "text": [
            "Archive:  test.tsv.zip\n",
            "  inflating: test.tsv                \n"
          ],
          "name": "stdout"
        }
      ]
    },
    {
      "cell_type": "code",
      "metadata": {
        "id": "ifHuxmKOmAFc",
        "colab_type": "code",
        "outputId": "3ae01450-71bf-4210-bb3d-eb94d94bd9c1",
        "colab": {
          "base_uri": "https://localhost:8080/",
          "height": 51
        }
      },
      "source": [
        "!unzip train.tsv.zip"
      ],
      "execution_count": 0,
      "outputs": [
        {
          "output_type": "stream",
          "text": [
            "Archive:  train.tsv.zip\n",
            "  inflating: train.tsv               \n"
          ],
          "name": "stdout"
        }
      ]
    },
    {
      "cell_type": "code",
      "metadata": {
        "id": "ykZkUaurLapR",
        "colab_type": "code",
        "outputId": "7a21ed5d-431b-4cd1-fef7-11ae0ac40a0e",
        "colab": {
          "base_uri": "https://localhost:8080/",
          "height": 51
        }
      },
      "source": [
        "train = pd.DataFrame(pd.read_csv('/content/train.tsv', sep='\\t'))\n",
        "test = pd.DataFrame(pd.read_csv('/content/test.tsv', sep='\\t'))\n",
        "\n",
        "print('Number of training sentences: {:,}\\n'.format(train.shape[0]))"
      ],
      "execution_count": 0,
      "outputs": [
        {
          "output_type": "stream",
          "text": [
            "Number of training sentences: 156,060\n",
            "\n"
          ],
          "name": "stdout"
        }
      ]
    },
    {
      "cell_type": "code",
      "metadata": {
        "id": "6IqNPn8tLapX",
        "colab_type": "code",
        "outputId": "0c098d10-f7e1-4557-d4e3-2e0d37e97d5a",
        "colab": {
          "base_uri": "https://localhost:8080/",
          "height": 204
        }
      },
      "source": [
        "train.head()"
      ],
      "execution_count": 0,
      "outputs": [
        {
          "output_type": "execute_result",
          "data": {
            "text/html": [
              "<div>\n",
              "<style scoped>\n",
              "    .dataframe tbody tr th:only-of-type {\n",
              "        vertical-align: middle;\n",
              "    }\n",
              "\n",
              "    .dataframe tbody tr th {\n",
              "        vertical-align: top;\n",
              "    }\n",
              "\n",
              "    .dataframe thead th {\n",
              "        text-align: right;\n",
              "    }\n",
              "</style>\n",
              "<table border=\"1\" class=\"dataframe\">\n",
              "  <thead>\n",
              "    <tr style=\"text-align: right;\">\n",
              "      <th></th>\n",
              "      <th>PhraseId</th>\n",
              "      <th>SentenceId</th>\n",
              "      <th>Phrase</th>\n",
              "      <th>Sentiment</th>\n",
              "    </tr>\n",
              "  </thead>\n",
              "  <tbody>\n",
              "    <tr>\n",
              "      <th>0</th>\n",
              "      <td>1</td>\n",
              "      <td>1</td>\n",
              "      <td>A series of escapades demonstrating the adage ...</td>\n",
              "      <td>1</td>\n",
              "    </tr>\n",
              "    <tr>\n",
              "      <th>1</th>\n",
              "      <td>2</td>\n",
              "      <td>1</td>\n",
              "      <td>A series of escapades demonstrating the adage ...</td>\n",
              "      <td>2</td>\n",
              "    </tr>\n",
              "    <tr>\n",
              "      <th>2</th>\n",
              "      <td>3</td>\n",
              "      <td>1</td>\n",
              "      <td>A series</td>\n",
              "      <td>2</td>\n",
              "    </tr>\n",
              "    <tr>\n",
              "      <th>3</th>\n",
              "      <td>4</td>\n",
              "      <td>1</td>\n",
              "      <td>A</td>\n",
              "      <td>2</td>\n",
              "    </tr>\n",
              "    <tr>\n",
              "      <th>4</th>\n",
              "      <td>5</td>\n",
              "      <td>1</td>\n",
              "      <td>series</td>\n",
              "      <td>2</td>\n",
              "    </tr>\n",
              "  </tbody>\n",
              "</table>\n",
              "</div>"
            ],
            "text/plain": [
              "   PhraseId  ...  Sentiment\n",
              "0         1  ...          1\n",
              "1         2  ...          2\n",
              "2         3  ...          2\n",
              "3         4  ...          2\n",
              "4         5  ...          2\n",
              "\n",
              "[5 rows x 4 columns]"
            ]
          },
          "metadata": {
            "tags": []
          },
          "execution_count": 52
        }
      ]
    },
    {
      "cell_type": "code",
      "metadata": {
        "id": "DFfZyAYMLapa",
        "colab_type": "code",
        "outputId": "842eb0f8-8e56-43e3-d470-7e746dc53951",
        "colab": {
          "base_uri": "https://localhost:8080/",
          "height": 204
        }
      },
      "source": [
        "test.head()"
      ],
      "execution_count": 0,
      "outputs": [
        {
          "output_type": "execute_result",
          "data": {
            "text/html": [
              "<div>\n",
              "<style scoped>\n",
              "    .dataframe tbody tr th:only-of-type {\n",
              "        vertical-align: middle;\n",
              "    }\n",
              "\n",
              "    .dataframe tbody tr th {\n",
              "        vertical-align: top;\n",
              "    }\n",
              "\n",
              "    .dataframe thead th {\n",
              "        text-align: right;\n",
              "    }\n",
              "</style>\n",
              "<table border=\"1\" class=\"dataframe\">\n",
              "  <thead>\n",
              "    <tr style=\"text-align: right;\">\n",
              "      <th></th>\n",
              "      <th>PhraseId</th>\n",
              "      <th>SentenceId</th>\n",
              "      <th>Phrase</th>\n",
              "    </tr>\n",
              "  </thead>\n",
              "  <tbody>\n",
              "    <tr>\n",
              "      <th>0</th>\n",
              "      <td>156061</td>\n",
              "      <td>8545</td>\n",
              "      <td>An intermittently pleasing but mostly routine ...</td>\n",
              "    </tr>\n",
              "    <tr>\n",
              "      <th>1</th>\n",
              "      <td>156062</td>\n",
              "      <td>8545</td>\n",
              "      <td>An intermittently pleasing but mostly routine ...</td>\n",
              "    </tr>\n",
              "    <tr>\n",
              "      <th>2</th>\n",
              "      <td>156063</td>\n",
              "      <td>8545</td>\n",
              "      <td>An</td>\n",
              "    </tr>\n",
              "    <tr>\n",
              "      <th>3</th>\n",
              "      <td>156064</td>\n",
              "      <td>8545</td>\n",
              "      <td>intermittently pleasing but mostly routine effort</td>\n",
              "    </tr>\n",
              "    <tr>\n",
              "      <th>4</th>\n",
              "      <td>156065</td>\n",
              "      <td>8545</td>\n",
              "      <td>intermittently pleasing but mostly routine</td>\n",
              "    </tr>\n",
              "  </tbody>\n",
              "</table>\n",
              "</div>"
            ],
            "text/plain": [
              "   PhraseId  SentenceId                                             Phrase\n",
              "0    156061        8545  An intermittently pleasing but mostly routine ...\n",
              "1    156062        8545  An intermittently pleasing but mostly routine ...\n",
              "2    156063        8545                                                 An\n",
              "3    156064        8545  intermittently pleasing but mostly routine effort\n",
              "4    156065        8545         intermittently pleasing but mostly routine"
            ]
          },
          "metadata": {
            "tags": []
          },
          "execution_count": 53
        }
      ]
    },
    {
      "cell_type": "markdown",
      "metadata": {
        "id": "Xy8YUGnydeEJ",
        "colab_type": "text"
      },
      "source": [
        "**Analysis of data can be found in Cadent_Sentiment_Analysis_Basic**"
      ]
    },
    {
      "cell_type": "code",
      "metadata": {
        "id": "B4xnNHAwLaqB",
        "colab_type": "code",
        "colab": {}
      },
      "source": [
        "X_train = train.drop(['Sentiment'], axis=1)\n",
        "y_train = train['Sentiment']\n",
        "\n",
        "X_test = test\n",
        "\n",
        "train_texts, train_labels = X_train['Phrase'], y_train\n",
        "val_texts = X_test['Phrase']"
      ],
      "execution_count": 0,
      "outputs": []
    },
    {
      "cell_type": "markdown",
      "metadata": {
        "id": "C4dDsykFeLkg",
        "colab_type": "text"
      },
      "source": [
        "**Data Pre-processing**"
      ]
    },
    {
      "cell_type": "code",
      "metadata": {
        "id": "Avew8uWPnv8C",
        "colab_type": "code",
        "outputId": "7410cf3a-be29-4428-def0-c1f65b9c1c20",
        "colab": {
          "base_uri": "https://localhost:8080/",
          "height": 34
        }
      },
      "source": [
        "#The following code was adapted from this Bert-fine-tuning example by Chris McCormick and Nick Ryan\n",
        "#Link: https://mccormickml.com/2019/07/22/BERT-fine-tuning/\n",
        "#The same tutorial has been helpful for a current Fake Claim detection project I have been working on at NYU.\n",
        "\n",
        "#BERT tokenizer\n",
        "from transformers import BertTokenizer\n",
        "print('Loading BERT tokenizer...')\n",
        "tokenizer = BertTokenizer.from_pretrained('bert-base-uncased', do_lower_case=True)"
      ],
      "execution_count": 0,
      "outputs": [
        {
          "output_type": "stream",
          "text": [
            "Loading BERT tokenizer...\n"
          ],
          "name": "stdout"
        }
      ]
    },
    {
      "cell_type": "code",
      "metadata": {
        "id": "fHtdYGTnoR3r",
        "colab_type": "code",
        "colab": {}
      },
      "source": [
        "def tokenize_mask(texts):\n",
        "  # Tokenize all of the sentences and map the tokens to thier word IDs.\n",
        "  input_ids = []# For every sentence...\n",
        "  attention_masks = []\n",
        "\n",
        "  for text in texts:\n",
        "    # `encode_plus` will:\n",
        "    #   (1) Tokenize the sentence.\n",
        "    #   (2) Prepend the `[CLS]` token to the start.\n",
        "    #   (3) Append the `[SEP]` token to the end.\n",
        "    #   (4) Map tokens to their IDs.\n",
        "    #   (5) Pad or truncate the sentence to `max_length`\n",
        "    #   (6) Create attention masks for [PAD] tokens.\n",
        "    \n",
        "    encoded_dict = tokenizer.encode_plus(\n",
        "                        text,                      # Sentence to encode.\n",
        "                        add_special_tokens = True, # Add '[CLS]' and '[SEP]'\n",
        "                        max_length = 128,           # Pad & truncate all sentences. Max BERT can do is 512.\n",
        "                        pad_to_max_length = True,\n",
        "                        return_attention_mask = True,   # Construct attn. masks.\n",
        "                        return_tensors = 'pt',     # Return pytorch tensors.\n",
        "                   )\n",
        "\n",
        "    # Add the encoded sentence to the list.\n",
        "    input_ids.append(encoded_dict['input_ids'])# Print sentence 0, now as a list of IDs.\n",
        "    \n",
        "    # And its attention mask (simply differentiates padding from non-padding).\n",
        "    attention_masks.append(encoded_dict['attention_mask'])\n",
        "  \n",
        "    # Convert the lists into tensors.\n",
        "  input_ids = torch.cat(input_ids, dim=0)\n",
        "  attention_masks = torch.cat(attention_masks, dim=0)\n",
        "  \n",
        "  #print out example\n",
        "  print('Original: ', texts[0])\n",
        "  print('Token IDs:', input_ids[0])\n",
        "  print('Attention Masks:', attention_masks[0])\n",
        "\n",
        "  return input_ids, attention_masks"
      ],
      "execution_count": 0,
      "outputs": []
    },
    {
      "cell_type": "code",
      "metadata": {
        "id": "wMk6Y1I1rMpA",
        "colab_type": "code",
        "outputId": "116d3684-279f-46a9-fd3e-d441a99e0959",
        "colab": {
          "base_uri": "https://localhost:8080/",
          "height": 513
        }
      },
      "source": [
        "#Train data: tokenize, pad, mask and convert to tensors\n",
        "train_inputs, train_masks = tokenize_mask(train_texts)\n",
        "train_labels = torch.tensor(train_labels)\n",
        "\n",
        "#Val data: tokenize, pad, mask and convert to tensors\n",
        "val_inputs, val_masks = tokenize_mask(val_texts)"
      ],
      "execution_count": 0,
      "outputs": [
        {
          "output_type": "stream",
          "text": [
            "Original:  A series of escapades demonstrating the adage that what is good for the goose is also good for the gander , some of which occasionally amuses but none of which amounts to much of a story .\n",
            "Token IDs: tensor([  101,  1037,  2186,  1997,  9686, 17695, 18673, 14313,  1996, 15262,\n",
            "         3351,  2008,  2054,  2003,  2204,  2005,  1996, 13020,  2003,  2036,\n",
            "         2204,  2005,  1996, 25957,  4063,  1010,  2070,  1997,  2029,  5681,\n",
            "         2572, 25581,  2021,  3904,  1997,  2029,  8310,  2000,  2172,  1997,\n",
            "         1037,  2466,  1012,   102,     0,     0,     0,     0,     0,     0,\n",
            "            0,     0,     0,     0,     0,     0,     0,     0,     0,     0,\n",
            "            0,     0,     0,     0,     0,     0,     0,     0,     0,     0,\n",
            "            0,     0,     0,     0,     0,     0,     0,     0,     0,     0,\n",
            "            0,     0,     0,     0,     0,     0,     0,     0,     0,     0])\n",
            "Attention Masks: tensor([1, 1, 1, 1, 1, 1, 1, 1, 1, 1, 1, 1, 1, 1, 1, 1, 1, 1, 1, 1, 1, 1, 1, 1,\n",
            "        1, 1, 1, 1, 1, 1, 1, 1, 1, 1, 1, 1, 1, 1, 1, 1, 1, 1, 1, 1, 0, 0, 0, 0,\n",
            "        0, 0, 0, 0, 0, 0, 0, 0, 0, 0, 0, 0, 0, 0, 0, 0, 0, 0, 0, 0, 0, 0, 0, 0,\n",
            "        0, 0, 0, 0, 0, 0, 0, 0, 0, 0, 0, 0, 0, 0, 0, 0, 0, 0])\n",
            "Original:  An intermittently pleasing but mostly routine effort .\n",
            "Token IDs: tensor([  101,  2019, 23852,  2135, 24820,  2021,  3262,  9410,  3947,  1012,\n",
            "          102,     0,     0,     0,     0,     0,     0,     0,     0,     0,\n",
            "            0,     0,     0,     0,     0,     0,     0,     0,     0,     0,\n",
            "            0,     0,     0,     0,     0,     0,     0,     0,     0,     0,\n",
            "            0,     0,     0,     0,     0,     0,     0,     0,     0,     0,\n",
            "            0,     0,     0,     0,     0,     0,     0,     0,     0,     0,\n",
            "            0,     0,     0,     0,     0,     0,     0,     0,     0,     0,\n",
            "            0,     0,     0,     0,     0,     0,     0,     0,     0,     0,\n",
            "            0,     0,     0,     0,     0,     0,     0,     0,     0,     0])\n",
            "Attention Masks: tensor([1, 1, 1, 1, 1, 1, 1, 1, 1, 1, 1, 0, 0, 0, 0, 0, 0, 0, 0, 0, 0, 0, 0, 0,\n",
            "        0, 0, 0, 0, 0, 0, 0, 0, 0, 0, 0, 0, 0, 0, 0, 0, 0, 0, 0, 0, 0, 0, 0, 0,\n",
            "        0, 0, 0, 0, 0, 0, 0, 0, 0, 0, 0, 0, 0, 0, 0, 0, 0, 0, 0, 0, 0, 0, 0, 0,\n",
            "        0, 0, 0, 0, 0, 0, 0, 0, 0, 0, 0, 0, 0, 0, 0, 0, 0, 0])\n"
          ],
          "name": "stdout"
        }
      ]
    },
    {
      "cell_type": "markdown",
      "metadata": {
        "id": "4MYOWL6XegkW",
        "colab_type": "text"
      },
      "source": [
        "**Pre-trained Model and Training Set-up**"
      ]
    },
    {
      "cell_type": "code",
      "metadata": {
        "id": "wSfzPkYxsaiH",
        "colab_type": "code",
        "colab": {}
      },
      "source": [
        "from torch.utils.data import TensorDataset, DataLoader, RandomSampler, SequentialSampler# The DataLoader needs to know our batch size for training\n",
        "batch_size = 32\n",
        "\n",
        "# Create the DataLoader for training set.\n",
        "train_data = TensorDataset(train_inputs, train_masks, train_labels)\n",
        "train_sampler = RandomSampler(train_data)\n",
        "train_dataloader = DataLoader(train_data, sampler=train_sampler, batch_size=batch_size)# Create the DataLoader for our validation set.\n",
        "\n",
        "# Create the DataLoader for validation set without labels.\n",
        "val_data = TensorDataset(val_inputs, val_masks)\n",
        "val_sampler = SequentialSampler(val_data)\n",
        "val_dataloader = DataLoader(val_data, sampler=val_sampler, batch_size=batch_size)"
      ],
      "execution_count": 0,
      "outputs": []
    },
    {
      "cell_type": "code",
      "metadata": {
        "id": "bAROsdsUtWcw",
        "colab_type": "code",
        "colab": {}
      },
      "source": [
        "from transformers import BertForSequenceClassification, AdamW, BertConfig\n",
        "# Load BertForSequenceClassification, the pretrained BERT model with a single \n",
        "# linear classification layer on top. \n",
        "\n",
        "model = BertForSequenceClassification.from_pretrained(\n",
        " \"bert-base-uncased\", # Use the 12-layer BERT model, with an uncased vocab.\n",
        " num_labels = 5, # The number of output labels for multi-class classification. \n",
        " output_attentions = False, # Whether the model returns attentions weights.\n",
        " output_hidden_states = False, # Whether the model returns all hidden-states.\n",
        ")# Tell pytorch to run this model on the GPU.\n",
        "\n",
        "model.cuda()"
      ],
      "execution_count": 0,
      "outputs": []
    },
    {
      "cell_type": "markdown",
      "metadata": {
        "id": "AMLOMxE3e4eo",
        "colab_type": "text"
      },
      "source": [
        "model.cuda() output removed"
      ]
    },
    {
      "cell_type": "code",
      "metadata": {
        "id": "vGtw1ayevvg2",
        "colab_type": "code",
        "colab": {}
      },
      "source": [
        "# Note: AdamW is a class from the huggingface library (as opposed to pytorch) \n",
        "optimizer = AdamW(model.parameters(),\n",
        " lr = 2e-5, # args.learning_rate - default is 5e-5, our notebook had 2e-5\n",
        " eps = 1e-8 # args.adam_epsilon - default is 1e-8.\n",
        " )\n",
        "\n",
        "from transformers import get_linear_schedule_with_warmup\n",
        "# Number of training epochs (authors recommend between 2 and 4)\n",
        "epochs = 4\n",
        "\n",
        "# Total number of training steps is number of batches * number of epochs.\n",
        "total_steps = len(train_dataloader) * epochs\n",
        "\n",
        "# Create the learning rate scheduler.\n",
        "scheduler = get_linear_schedule_with_warmup(optimizer, \n",
        " num_warmup_steps = 0, # Default value in run_glue.py\n",
        " num_training_steps = total_steps)"
      ],
      "execution_count": 0,
      "outputs": []
    },
    {
      "cell_type": "code",
      "metadata": {
        "id": "WNYYeNFywR8_",
        "colab_type": "code",
        "colab": {}
      },
      "source": [
        "import time\n",
        "import datetime\n",
        "\n",
        "def format_time(elapsed):\n",
        "    '''\n",
        "    Takes a time in seconds and returns a string hh:mm:ss\n",
        "    '''\n",
        "    # Round to the nearest second.\n",
        "    elapsed_rounded = int(round((elapsed)))\n",
        "    \n",
        "    # Format as hh:mm:ss\n",
        "    return str(datetime.timedelta(seconds=elapsed_rounded))"
      ],
      "execution_count": 0,
      "outputs": []
    },
    {
      "cell_type": "markdown",
      "metadata": {
        "id": "DK1LwK5GfAEq",
        "colab_type": "text"
      },
      "source": [
        "#Training#"
      ]
    },
    {
      "cell_type": "code",
      "metadata": {
        "id": "x1l0NZC3yWSr",
        "colab_type": "code",
        "outputId": "bd8d80be-db64-4ee3-803d-3339ca7dfd0b",
        "colab": {
          "base_uri": "https://localhost:8080/",
          "height": 1000
        }
      },
      "source": [
        "import random\n",
        "import numpy as np\n",
        "import time\n",
        "\n",
        "# This training code is based on the `run_glue.py` script here:\n",
        "# https://github.com/huggingface/transformers/blob/5bfcd0485ece086ebcbed2d008813037968a9e58/examples/run_glue.py#L128\n",
        "\n",
        "# Set the seed value all over the place to make this reproducible.\n",
        "seed_val = 42\n",
        "\n",
        "random.seed(seed_val)\n",
        "np.random.seed(seed_val)\n",
        "torch.manual_seed(seed_val)\n",
        "torch.cuda.manual_seed_all(seed_val)\n",
        "\n",
        "# We'll store a number of quantities such as training and validation loss, \n",
        "# validation accuracy, and timings.\n",
        "training_stats = []\n",
        "\n",
        "# Measure the total training time for the whole run.\n",
        "total_t0 = time.time()\n",
        "\n",
        "# For each epoch...\n",
        "for epoch_i in range(0, epochs):\n",
        "  \n",
        "    # Perform one full pass over the training set.\n",
        "\n",
        "    print(\"\")\n",
        "    print('======== Epoch {:} / {:} ========'.format(epoch_i + 1, epochs))\n",
        "    print('Training...')\n",
        "\n",
        "    # Measure how long the training epoch takes.\n",
        "    t0 = time.time()\n",
        "\n",
        "    # Reset the total loss for this epoch.\n",
        "    total_train_loss = 0\n",
        "\n",
        "    # Put the model into training mode. Don't be mislead--the call to \n",
        "    # `train` just changes the *mode*, it doesn't *perform* the training.\n",
        "    # `dropout` and `batchnorm` layers behave differently during training\n",
        "    # vs. test (source: https://stackoverflow.com/questions/51433378/what-does-model-train-do-in-pytorch)\n",
        "    model.train()\n",
        "\n",
        "    # For each batch of training data...\n",
        "    for step, batch in enumerate(train_dataloader):\n",
        "\n",
        "        # Progress update every 40 batches.\n",
        "        if step % 40 == 0 and not step == 0:\n",
        "            # Calculate elapsed time in minutes.\n",
        "            elapsed = format_time(time.time() - t0)\n",
        "            \n",
        "            # Report progress.\n",
        "            print('  Batch {:>5,}  of  {:>5,}.    Elapsed: {:}.'.format(step, len(train_dataloader), elapsed))\n",
        "\n",
        "        # Unpack this training batch from our dataloader. \n",
        "        #\n",
        "        # As we unpack the batch, we'll also copy each tensor to the GPU using the \n",
        "        # `to` method.\n",
        "        #\n",
        "        # `batch` contains three pytorch tensors:\n",
        "        #   [0]: input ids \n",
        "        #   [1]: attention masks\n",
        "        #   [2]: labels \n",
        "        b_input_ids = batch[0].to(device)\n",
        "        b_input_mask = batch[1].to(device)\n",
        "        b_labels = batch[2].to(device)\n",
        "\n",
        "        # Always clear any previously calculated gradients before performing a\n",
        "        # backward pass. PyTorch doesn't do this automatically because \n",
        "        # accumulating the gradients is \"convenient while training RNNs\". \n",
        "        # (source: https://stackoverflow.com/questions/48001598/why-do-we-need-to-call-zero-grad-in-pytorch)\n",
        "        model.zero_grad()        \n",
        "\n",
        "        # Perform a forward pass (evaluate the model on this training batch).\n",
        "        # The documentation for this `model` function is here: \n",
        "        # https://huggingface.co/transformers/v2.2.0/model_doc/bert.html#transformers.BertForSequenceClassification\n",
        "        # It returns different numbers of parameters depending on what arguments\n",
        "        # arge given and what flags are set. For our useage here, it returns\n",
        "        # the loss (because we provided labels) and the \"logits\"--the model\n",
        "        # outputs prior to activation.\n",
        "        loss, logits = model(b_input_ids, \n",
        "                             token_type_ids=None, \n",
        "                             attention_mask=b_input_mask, \n",
        "                             labels=b_labels)\n",
        "\n",
        "        # Accumulate the training loss over all of the batches so that we can\n",
        "        # calculate the average loss at the end. `loss` is a Tensor containing a\n",
        "        # single value; the `.item()` function just returns the Python value \n",
        "        # from the tensor.\n",
        "        total_train_loss += loss.item()\n",
        "\n",
        "        # Perform a backward pass to calculate the gradients.\n",
        "        loss.backward()\n",
        "\n",
        "        # Clip the norm of the gradients to 1.0.\n",
        "        # This is to help prevent the \"exploding gradients\" problem.\n",
        "        torch.nn.utils.clip_grad_norm_(model.parameters(), 1.0)\n",
        "\n",
        "        # Update parameters and take a step using the computed gradient.\n",
        "        # The optimizer dictates the \"update rule\"--how the parameters are\n",
        "        # modified based on their gradients, the learning rate, etc.\n",
        "        optimizer.step()\n",
        "\n",
        "        # Update the learning rate.\n",
        "        scheduler.step()\n",
        "\n",
        "    # Calculate the average loss over all of the batches.\n",
        "    avg_train_loss = total_train_loss / len(train_dataloader)            \n",
        "    \n",
        "    # Measure how long this epoch took.\n",
        "    training_time = format_time(time.time() - t0)\n",
        "\n",
        "    print(\"\")\n",
        "    print(\"  Average training loss: {0:.2f}\".format(avg_train_loss))\n",
        "    print(\"  Training epcoh took: {:}\".format(training_time))\n",
        "\n",
        "    training_stats.append(\n",
        "        {\n",
        "            'epoch': epoch_i + 1,\n",
        "            'Training Loss': avg_train_loss,\n",
        "            'Training Time': training_time\n",
        "        }\n",
        "    )\n",
        "\n",
        "print(\"\")\n",
        "print(\"Training complete!\")\n",
        "\n",
        "print(\"Total training took {:} (h:mm:ss)\".format(format_time(time.time()-total_t0)))"
      ],
      "execution_count": 0,
      "outputs": [
        {
          "output_type": "stream",
          "text": [
            "\n",
            "======== Epoch 1 / 4 ========\n",
            "Training...\n",
            "  Batch    40  of  4,877.    Elapsed: 0:00:19.\n",
            "  Batch    80  of  4,877.    Elapsed: 0:00:38.\n",
            "  Batch   120  of  4,877.    Elapsed: 0:00:57.\n",
            "  Batch   160  of  4,877.    Elapsed: 0:01:17.\n",
            "  Batch   200  of  4,877.    Elapsed: 0:01:37.\n",
            "  Batch   240  of  4,877.    Elapsed: 0:01:57.\n",
            "  Batch   280  of  4,877.    Elapsed: 0:02:18.\n",
            "  Batch   320  of  4,877.    Elapsed: 0:02:38.\n",
            "  Batch   360  of  4,877.    Elapsed: 0:02:59.\n",
            "  Batch   400  of  4,877.    Elapsed: 0:03:21.\n",
            "  Batch   440  of  4,877.    Elapsed: 0:03:42.\n",
            "  Batch   480  of  4,877.    Elapsed: 0:04:03.\n",
            "  Batch   520  of  4,877.    Elapsed: 0:04:24.\n",
            "  Batch   560  of  4,877.    Elapsed: 0:04:45.\n",
            "  Batch   600  of  4,877.    Elapsed: 0:05:06.\n",
            "  Batch   640  of  4,877.    Elapsed: 0:05:27.\n",
            "  Batch   680  of  4,877.    Elapsed: 0:05:48.\n",
            "  Batch   720  of  4,877.    Elapsed: 0:06:09.\n",
            "  Batch   760  of  4,877.    Elapsed: 0:06:31.\n",
            "  Batch   800  of  4,877.    Elapsed: 0:06:52.\n",
            "  Batch   840  of  4,877.    Elapsed: 0:07:13.\n",
            "  Batch   880  of  4,877.    Elapsed: 0:07:34.\n",
            "  Batch   920  of  4,877.    Elapsed: 0:07:55.\n",
            "  Batch   960  of  4,877.    Elapsed: 0:08:16.\n",
            "  Batch 1,000  of  4,877.    Elapsed: 0:08:37.\n",
            "  Batch 1,040  of  4,877.    Elapsed: 0:08:58.\n",
            "  Batch 1,080  of  4,877.    Elapsed: 0:09:19.\n",
            "  Batch 1,120  of  4,877.    Elapsed: 0:09:40.\n",
            "  Batch 1,160  of  4,877.    Elapsed: 0:10:01.\n",
            "  Batch 1,200  of  4,877.    Elapsed: 0:10:22.\n",
            "  Batch 1,240  of  4,877.    Elapsed: 0:10:44.\n",
            "  Batch 1,280  of  4,877.    Elapsed: 0:11:05.\n",
            "  Batch 1,320  of  4,877.    Elapsed: 0:11:26.\n",
            "  Batch 1,360  of  4,877.    Elapsed: 0:11:47.\n",
            "  Batch 1,400  of  4,877.    Elapsed: 0:12:08.\n",
            "  Batch 1,440  of  4,877.    Elapsed: 0:12:29.\n",
            "  Batch 1,480  of  4,877.    Elapsed: 0:12:50.\n",
            "  Batch 1,520  of  4,877.    Elapsed: 0:13:11.\n",
            "  Batch 1,560  of  4,877.    Elapsed: 0:13:32.\n",
            "  Batch 1,600  of  4,877.    Elapsed: 0:13:53.\n",
            "  Batch 1,640  of  4,877.    Elapsed: 0:14:14.\n",
            "  Batch 1,680  of  4,877.    Elapsed: 0:14:35.\n",
            "  Batch 1,720  of  4,877.    Elapsed: 0:14:56.\n",
            "  Batch 1,760  of  4,877.    Elapsed: 0:15:18.\n",
            "  Batch 1,800  of  4,877.    Elapsed: 0:15:39.\n",
            "  Batch 1,840  of  4,877.    Elapsed: 0:16:00.\n",
            "  Batch 1,880  of  4,877.    Elapsed: 0:16:21.\n",
            "  Batch 1,920  of  4,877.    Elapsed: 0:16:42.\n",
            "  Batch 1,960  of  4,877.    Elapsed: 0:17:03.\n",
            "  Batch 2,000  of  4,877.    Elapsed: 0:17:24.\n",
            "  Batch 2,040  of  4,877.    Elapsed: 0:17:45.\n",
            "  Batch 2,080  of  4,877.    Elapsed: 0:18:06.\n",
            "  Batch 2,120  of  4,877.    Elapsed: 0:18:27.\n",
            "  Batch 2,160  of  4,877.    Elapsed: 0:18:48.\n",
            "  Batch 2,200  of  4,877.    Elapsed: 0:19:09.\n",
            "  Batch 2,240  of  4,877.    Elapsed: 0:19:30.\n",
            "  Batch 2,280  of  4,877.    Elapsed: 0:19:51.\n",
            "  Batch 2,320  of  4,877.    Elapsed: 0:20:13.\n",
            "  Batch 2,360  of  4,877.    Elapsed: 0:20:34.\n",
            "  Batch 2,400  of  4,877.    Elapsed: 0:20:55.\n",
            "  Batch 2,440  of  4,877.    Elapsed: 0:21:16.\n",
            "  Batch 2,480  of  4,877.    Elapsed: 0:21:37.\n",
            "  Batch 2,520  of  4,877.    Elapsed: 0:21:58.\n",
            "  Batch 2,560  of  4,877.    Elapsed: 0:22:19.\n",
            "  Batch 2,600  of  4,877.    Elapsed: 0:22:40.\n",
            "  Batch 2,640  of  4,877.    Elapsed: 0:23:01.\n",
            "  Batch 2,680  of  4,877.    Elapsed: 0:23:22.\n",
            "  Batch 2,720  of  4,877.    Elapsed: 0:23:44.\n",
            "  Batch 2,760  of  4,877.    Elapsed: 0:24:05.\n",
            "  Batch 2,800  of  4,877.    Elapsed: 0:24:26.\n",
            "  Batch 2,840  of  4,877.    Elapsed: 0:24:47.\n",
            "  Batch 2,880  of  4,877.    Elapsed: 0:25:08.\n",
            "  Batch 2,920  of  4,877.    Elapsed: 0:25:29.\n",
            "  Batch 2,960  of  4,877.    Elapsed: 0:25:50.\n",
            "  Batch 3,000  of  4,877.    Elapsed: 0:26:11.\n",
            "  Batch 3,040  of  4,877.    Elapsed: 0:26:32.\n",
            "  Batch 3,080  of  4,877.    Elapsed: 0:26:53.\n",
            "  Batch 3,120  of  4,877.    Elapsed: 0:27:14.\n",
            "  Batch 3,160  of  4,877.    Elapsed: 0:27:35.\n",
            "  Batch 3,200  of  4,877.    Elapsed: 0:27:56.\n",
            "  Batch 3,240  of  4,877.    Elapsed: 0:28:18.\n",
            "  Batch 3,280  of  4,877.    Elapsed: 0:28:39.\n",
            "  Batch 3,320  of  4,877.    Elapsed: 0:29:00.\n",
            "  Batch 3,360  of  4,877.    Elapsed: 0:29:21.\n",
            "  Batch 3,400  of  4,877.    Elapsed: 0:29:42.\n",
            "  Batch 3,440  of  4,877.    Elapsed: 0:30:03.\n",
            "  Batch 3,480  of  4,877.    Elapsed: 0:30:24.\n",
            "  Batch 3,520  of  4,877.    Elapsed: 0:30:45.\n",
            "  Batch 3,560  of  4,877.    Elapsed: 0:31:06.\n",
            "  Batch 3,600  of  4,877.    Elapsed: 0:31:27.\n",
            "  Batch 3,640  of  4,877.    Elapsed: 0:31:48.\n",
            "  Batch 3,680  of  4,877.    Elapsed: 0:32:09.\n",
            "  Batch 3,720  of  4,877.    Elapsed: 0:32:31.\n",
            "  Batch 3,760  of  4,877.    Elapsed: 0:32:52.\n",
            "  Batch 3,800  of  4,877.    Elapsed: 0:33:13.\n",
            "  Batch 3,840  of  4,877.    Elapsed: 0:33:34.\n",
            "  Batch 3,880  of  4,877.    Elapsed: 0:33:55.\n",
            "  Batch 3,920  of  4,877.    Elapsed: 0:34:16.\n",
            "  Batch 3,960  of  4,877.    Elapsed: 0:34:37.\n",
            "  Batch 4,000  of  4,877.    Elapsed: 0:34:58.\n",
            "  Batch 4,040  of  4,877.    Elapsed: 0:35:19.\n",
            "  Batch 4,080  of  4,877.    Elapsed: 0:35:40.\n",
            "  Batch 4,120  of  4,877.    Elapsed: 0:36:02.\n",
            "  Batch 4,160  of  4,877.    Elapsed: 0:36:23.\n",
            "  Batch 4,200  of  4,877.    Elapsed: 0:36:44.\n",
            "  Batch 4,240  of  4,877.    Elapsed: 0:37:05.\n",
            "  Batch 4,280  of  4,877.    Elapsed: 0:37:26.\n",
            "  Batch 4,320  of  4,877.    Elapsed: 0:37:47.\n",
            "  Batch 4,360  of  4,877.    Elapsed: 0:38:08.\n",
            "  Batch 4,400  of  4,877.    Elapsed: 0:38:29.\n",
            "  Batch 4,440  of  4,877.    Elapsed: 0:38:50.\n",
            "  Batch 4,480  of  4,877.    Elapsed: 0:39:11.\n",
            "  Batch 4,520  of  4,877.    Elapsed: 0:39:32.\n",
            "  Batch 4,560  of  4,877.    Elapsed: 0:39:53.\n",
            "  Batch 4,600  of  4,877.    Elapsed: 0:40:14.\n",
            "  Batch 4,640  of  4,877.    Elapsed: 0:40:35.\n",
            "  Batch 4,680  of  4,877.    Elapsed: 0:40:57.\n",
            "  Batch 4,720  of  4,877.    Elapsed: 0:41:18.\n",
            "  Batch 4,760  of  4,877.    Elapsed: 0:41:39.\n",
            "  Batch 4,800  of  4,877.    Elapsed: 0:42:00.\n",
            "  Batch 4,840  of  4,877.    Elapsed: 0:42:21.\n",
            "\n",
            "  Average training loss: 0.78\n",
            "  Training epcoh took: 0:42:40\n",
            "\n",
            "======== Epoch 2 / 4 ========\n",
            "Training...\n",
            "  Batch    40  of  4,877.    Elapsed: 0:00:21.\n",
            "  Batch    80  of  4,877.    Elapsed: 0:00:42.\n",
            "  Batch   120  of  4,877.    Elapsed: 0:01:03.\n",
            "  Batch   160  of  4,877.    Elapsed: 0:01:24.\n",
            "  Batch   200  of  4,877.    Elapsed: 0:01:45.\n",
            "  Batch   240  of  4,877.    Elapsed: 0:02:07.\n",
            "  Batch   280  of  4,877.    Elapsed: 0:02:28.\n",
            "  Batch   320  of  4,877.    Elapsed: 0:02:49.\n",
            "  Batch   360  of  4,877.    Elapsed: 0:03:10.\n",
            "  Batch   400  of  4,877.    Elapsed: 0:03:31.\n",
            "  Batch   440  of  4,877.    Elapsed: 0:03:52.\n",
            "  Batch   480  of  4,877.    Elapsed: 0:04:13.\n",
            "  Batch   520  of  4,877.    Elapsed: 0:04:34.\n",
            "  Batch   560  of  4,877.    Elapsed: 0:04:55.\n",
            "  Batch   600  of  4,877.    Elapsed: 0:05:16.\n",
            "  Batch   640  of  4,877.    Elapsed: 0:05:38.\n",
            "  Batch   680  of  4,877.    Elapsed: 0:05:59.\n",
            "  Batch   720  of  4,877.    Elapsed: 0:06:20.\n",
            "  Batch   760  of  4,877.    Elapsed: 0:06:41.\n",
            "  Batch   800  of  4,877.    Elapsed: 0:07:02.\n",
            "  Batch   840  of  4,877.    Elapsed: 0:07:23.\n",
            "  Batch   880  of  4,877.    Elapsed: 0:07:44.\n",
            "  Batch   920  of  4,877.    Elapsed: 0:08:05.\n",
            "  Batch   960  of  4,877.    Elapsed: 0:08:26.\n",
            "  Batch 1,000  of  4,877.    Elapsed: 0:08:47.\n",
            "  Batch 1,040  of  4,877.    Elapsed: 0:09:08.\n",
            "  Batch 1,080  of  4,877.    Elapsed: 0:09:29.\n",
            "  Batch 1,120  of  4,877.    Elapsed: 0:09:51.\n",
            "  Batch 1,160  of  4,877.    Elapsed: 0:10:12.\n",
            "  Batch 1,200  of  4,877.    Elapsed: 0:10:33.\n",
            "  Batch 1,240  of  4,877.    Elapsed: 0:10:54.\n",
            "  Batch 1,280  of  4,877.    Elapsed: 0:11:15.\n",
            "  Batch 1,320  of  4,877.    Elapsed: 0:11:36.\n",
            "  Batch 1,360  of  4,877.    Elapsed: 0:11:57.\n",
            "  Batch 1,400  of  4,877.    Elapsed: 0:12:18.\n",
            "  Batch 1,440  of  4,877.    Elapsed: 0:12:39.\n",
            "  Batch 1,480  of  4,877.    Elapsed: 0:13:00.\n",
            "  Batch 1,520  of  4,877.    Elapsed: 0:13:21.\n",
            "  Batch 1,560  of  4,877.    Elapsed: 0:13:43.\n",
            "  Batch 1,600  of  4,877.    Elapsed: 0:14:04.\n",
            "  Batch 1,640  of  4,877.    Elapsed: 0:14:25.\n",
            "  Batch 1,680  of  4,877.    Elapsed: 0:14:46.\n",
            "  Batch 1,720  of  4,877.    Elapsed: 0:15:07.\n",
            "  Batch 1,760  of  4,877.    Elapsed: 0:15:28.\n",
            "  Batch 1,800  of  4,877.    Elapsed: 0:15:49.\n",
            "  Batch 1,840  of  4,877.    Elapsed: 0:16:10.\n",
            "  Batch 1,880  of  4,877.    Elapsed: 0:16:31.\n",
            "  Batch 1,920  of  4,877.    Elapsed: 0:16:52.\n",
            "  Batch 1,960  of  4,877.    Elapsed: 0:17:13.\n",
            "  Batch 2,000  of  4,877.    Elapsed: 0:17:34.\n",
            "  Batch 2,040  of  4,877.    Elapsed: 0:17:55.\n",
            "  Batch 2,080  of  4,877.    Elapsed: 0:18:16.\n",
            "  Batch 2,120  of  4,877.    Elapsed: 0:18:37.\n",
            "  Batch 2,160  of  4,877.    Elapsed: 0:18:59.\n",
            "  Batch 2,200  of  4,877.    Elapsed: 0:19:20.\n",
            "  Batch 2,240  of  4,877.    Elapsed: 0:19:41.\n",
            "  Batch 2,280  of  4,877.    Elapsed: 0:20:02.\n",
            "  Batch 2,320  of  4,877.    Elapsed: 0:20:23.\n",
            "  Batch 2,360  of  4,877.    Elapsed: 0:20:44.\n",
            "  Batch 2,400  of  4,877.    Elapsed: 0:21:05.\n",
            "  Batch 2,440  of  4,877.    Elapsed: 0:21:26.\n",
            "  Batch 2,480  of  4,877.    Elapsed: 0:21:47.\n",
            "  Batch 2,520  of  4,877.    Elapsed: 0:22:08.\n",
            "  Batch 2,560  of  4,877.    Elapsed: 0:22:29.\n",
            "  Batch 2,600  of  4,877.    Elapsed: 0:22:50.\n",
            "  Batch 2,640  of  4,877.    Elapsed: 0:23:12.\n",
            "  Batch 2,680  of  4,877.    Elapsed: 0:23:33.\n",
            "  Batch 2,720  of  4,877.    Elapsed: 0:23:54.\n",
            "  Batch 2,760  of  4,877.    Elapsed: 0:24:15.\n",
            "  Batch 2,800  of  4,877.    Elapsed: 0:24:36.\n",
            "  Batch 2,840  of  4,877.    Elapsed: 0:24:57.\n",
            "  Batch 2,880  of  4,877.    Elapsed: 0:25:18.\n",
            "  Batch 2,920  of  4,877.    Elapsed: 0:25:39.\n",
            "  Batch 2,960  of  4,877.    Elapsed: 0:26:00.\n",
            "  Batch 3,000  of  4,877.    Elapsed: 0:26:21.\n",
            "  Batch 3,040  of  4,877.    Elapsed: 0:26:42.\n",
            "  Batch 3,080  of  4,877.    Elapsed: 0:27:03.\n",
            "  Batch 3,120  of  4,877.    Elapsed: 0:27:25.\n",
            "  Batch 3,160  of  4,877.    Elapsed: 0:27:46.\n",
            "  Batch 3,200  of  4,877.    Elapsed: 0:28:07.\n",
            "  Batch 3,240  of  4,877.    Elapsed: 0:28:28.\n",
            "  Batch 3,280  of  4,877.    Elapsed: 0:28:49.\n",
            "  Batch 3,320  of  4,877.    Elapsed: 0:29:10.\n",
            "  Batch 3,360  of  4,877.    Elapsed: 0:29:31.\n",
            "  Batch 3,400  of  4,877.    Elapsed: 0:29:52.\n",
            "  Batch 3,440  of  4,877.    Elapsed: 0:30:13.\n",
            "  Batch 3,480  of  4,877.    Elapsed: 0:30:34.\n",
            "  Batch 3,520  of  4,877.    Elapsed: 0:30:55.\n",
            "  Batch 3,560  of  4,877.    Elapsed: 0:31:16.\n",
            "  Batch 3,600  of  4,877.    Elapsed: 0:31:38.\n",
            "  Batch 3,640  of  4,877.    Elapsed: 0:31:59.\n",
            "  Batch 3,680  of  4,877.    Elapsed: 0:32:20.\n",
            "  Batch 3,720  of  4,877.    Elapsed: 0:32:41.\n",
            "  Batch 3,760  of  4,877.    Elapsed: 0:33:02.\n",
            "  Batch 3,800  of  4,877.    Elapsed: 0:33:23.\n",
            "  Batch 3,840  of  4,877.    Elapsed: 0:33:44.\n",
            "  Batch 3,880  of  4,877.    Elapsed: 0:34:05.\n",
            "  Batch 3,920  of  4,877.    Elapsed: 0:34:26.\n",
            "  Batch 3,960  of  4,877.    Elapsed: 0:34:47.\n",
            "  Batch 4,000  of  4,877.    Elapsed: 0:35:08.\n",
            "  Batch 4,040  of  4,877.    Elapsed: 0:35:29.\n",
            "  Batch 4,080  of  4,877.    Elapsed: 0:35:50.\n",
            "  Batch 4,120  of  4,877.    Elapsed: 0:36:11.\n",
            "  Batch 4,160  of  4,877.    Elapsed: 0:36:33.\n",
            "  Batch 4,200  of  4,877.    Elapsed: 0:36:54.\n",
            "  Batch 4,240  of  4,877.    Elapsed: 0:37:15.\n",
            "  Batch 4,280  of  4,877.    Elapsed: 0:37:36.\n",
            "  Batch 4,320  of  4,877.    Elapsed: 0:37:57.\n",
            "  Batch 4,360  of  4,877.    Elapsed: 0:38:18.\n",
            "  Batch 4,400  of  4,877.    Elapsed: 0:38:39.\n",
            "  Batch 4,440  of  4,877.    Elapsed: 0:39:00.\n",
            "  Batch 4,480  of  4,877.    Elapsed: 0:39:21.\n",
            "  Batch 4,520  of  4,877.    Elapsed: 0:39:42.\n",
            "  Batch 4,560  of  4,877.    Elapsed: 0:40:03.\n",
            "  Batch 4,600  of  4,877.    Elapsed: 0:40:24.\n",
            "  Batch 4,640  of  4,877.    Elapsed: 0:40:45.\n",
            "  Batch 4,680  of  4,877.    Elapsed: 0:41:06.\n",
            "  Batch 4,720  of  4,877.    Elapsed: 0:41:27.\n",
            "  Batch 4,760  of  4,877.    Elapsed: 0:41:49.\n",
            "  Batch 4,800  of  4,877.    Elapsed: 0:42:10.\n",
            "  Batch 4,840  of  4,877.    Elapsed: 0:42:31.\n",
            "\n",
            "  Average training loss: 0.65\n",
            "  Training epcoh took: 0:42:50\n",
            "\n",
            "======== Epoch 3 / 4 ========\n",
            "Training...\n",
            "  Batch    40  of  4,877.    Elapsed: 0:00:21.\n",
            "  Batch    80  of  4,877.    Elapsed: 0:00:42.\n",
            "  Batch   120  of  4,877.    Elapsed: 0:01:03.\n",
            "  Batch   160  of  4,877.    Elapsed: 0:01:24.\n",
            "  Batch   200  of  4,877.    Elapsed: 0:01:45.\n",
            "  Batch   240  of  4,877.    Elapsed: 0:02:07.\n",
            "  Batch   280  of  4,877.    Elapsed: 0:02:28.\n",
            "  Batch   320  of  4,877.    Elapsed: 0:02:49.\n",
            "  Batch   360  of  4,877.    Elapsed: 0:03:10.\n",
            "  Batch   400  of  4,877.    Elapsed: 0:03:31.\n",
            "  Batch   440  of  4,877.    Elapsed: 0:03:52.\n",
            "  Batch   480  of  4,877.    Elapsed: 0:04:13.\n",
            "  Batch   520  of  4,877.    Elapsed: 0:04:34.\n",
            "  Batch   560  of  4,877.    Elapsed: 0:04:55.\n",
            "  Batch   600  of  4,877.    Elapsed: 0:05:16.\n",
            "  Batch   640  of  4,877.    Elapsed: 0:05:37.\n",
            "  Batch   680  of  4,877.    Elapsed: 0:05:58.\n",
            "  Batch   720  of  4,877.    Elapsed: 0:06:19.\n",
            "  Batch   760  of  4,877.    Elapsed: 0:06:40.\n",
            "  Batch   800  of  4,877.    Elapsed: 0:07:02.\n",
            "  Batch   840  of  4,877.    Elapsed: 0:07:23.\n",
            "  Batch   880  of  4,877.    Elapsed: 0:07:44.\n",
            "  Batch   920  of  4,877.    Elapsed: 0:08:05.\n",
            "  Batch   960  of  4,877.    Elapsed: 0:08:26.\n",
            "  Batch 1,000  of  4,877.    Elapsed: 0:08:47.\n",
            "  Batch 1,040  of  4,877.    Elapsed: 0:09:08.\n",
            "  Batch 1,080  of  4,877.    Elapsed: 0:09:29.\n",
            "  Batch 1,120  of  4,877.    Elapsed: 0:09:50.\n",
            "  Batch 1,160  of  4,877.    Elapsed: 0:10:11.\n",
            "  Batch 1,200  of  4,877.    Elapsed: 0:10:32.\n",
            "  Batch 1,240  of  4,877.    Elapsed: 0:10:53.\n",
            "  Batch 1,280  of  4,877.    Elapsed: 0:11:15.\n",
            "  Batch 1,320  of  4,877.    Elapsed: 0:11:36.\n",
            "  Batch 1,360  of  4,877.    Elapsed: 0:11:57.\n",
            "  Batch 1,400  of  4,877.    Elapsed: 0:12:18.\n",
            "  Batch 1,440  of  4,877.    Elapsed: 0:12:39.\n",
            "  Batch 1,480  of  4,877.    Elapsed: 0:13:00.\n",
            "  Batch 1,520  of  4,877.    Elapsed: 0:13:21.\n",
            "  Batch 1,560  of  4,877.    Elapsed: 0:13:42.\n",
            "  Batch 1,600  of  4,877.    Elapsed: 0:14:03.\n",
            "  Batch 1,640  of  4,877.    Elapsed: 0:14:24.\n",
            "  Batch 1,680  of  4,877.    Elapsed: 0:14:45.\n",
            "  Batch 1,720  of  4,877.    Elapsed: 0:15:07.\n",
            "  Batch 1,760  of  4,877.    Elapsed: 0:15:28.\n",
            "  Batch 1,800  of  4,877.    Elapsed: 0:15:49.\n",
            "  Batch 1,840  of  4,877.    Elapsed: 0:16:10.\n",
            "  Batch 1,880  of  4,877.    Elapsed: 0:16:31.\n",
            "  Batch 1,920  of  4,877.    Elapsed: 0:16:52.\n",
            "  Batch 1,960  of  4,877.    Elapsed: 0:17:13.\n",
            "  Batch 2,000  of  4,877.    Elapsed: 0:17:34.\n",
            "  Batch 2,040  of  4,877.    Elapsed: 0:17:55.\n",
            "  Batch 2,080  of  4,877.    Elapsed: 0:18:17.\n",
            "  Batch 2,120  of  4,877.    Elapsed: 0:18:38.\n",
            "  Batch 2,160  of  4,877.    Elapsed: 0:18:59.\n",
            "  Batch 2,200  of  4,877.    Elapsed: 0:19:20.\n",
            "  Batch 2,240  of  4,877.    Elapsed: 0:19:41.\n",
            "  Batch 2,280  of  4,877.    Elapsed: 0:20:02.\n",
            "  Batch 2,320  of  4,877.    Elapsed: 0:20:23.\n",
            "  Batch 2,360  of  4,877.    Elapsed: 0:20:44.\n",
            "  Batch 2,400  of  4,877.    Elapsed: 0:21:05.\n",
            "  Batch 2,440  of  4,877.    Elapsed: 0:21:27.\n",
            "  Batch 2,480  of  4,877.    Elapsed: 0:21:48.\n",
            "  Batch 2,520  of  4,877.    Elapsed: 0:22:09.\n",
            "  Batch 2,560  of  4,877.    Elapsed: 0:22:30.\n",
            "  Batch 2,600  of  4,877.    Elapsed: 0:22:51.\n",
            "  Batch 2,640  of  4,877.    Elapsed: 0:23:12.\n",
            "  Batch 2,680  of  4,877.    Elapsed: 0:23:33.\n",
            "  Batch 2,720  of  4,877.    Elapsed: 0:23:54.\n",
            "  Batch 2,760  of  4,877.    Elapsed: 0:24:15.\n",
            "  Batch 2,800  of  4,877.    Elapsed: 0:24:37.\n",
            "  Batch 2,840  of  4,877.    Elapsed: 0:24:58.\n",
            "  Batch 2,880  of  4,877.    Elapsed: 0:25:19.\n",
            "  Batch 2,920  of  4,877.    Elapsed: 0:25:40.\n",
            "  Batch 2,960  of  4,877.    Elapsed: 0:26:01.\n",
            "  Batch 3,000  of  4,877.    Elapsed: 0:26:22.\n",
            "  Batch 3,040  of  4,877.    Elapsed: 0:26:43.\n",
            "  Batch 3,080  of  4,877.    Elapsed: 0:27:04.\n",
            "  Batch 3,120  of  4,877.    Elapsed: 0:27:25.\n",
            "  Batch 3,160  of  4,877.    Elapsed: 0:27:46.\n",
            "  Batch 3,200  of  4,877.    Elapsed: 0:28:07.\n",
            "  Batch 3,240  of  4,877.    Elapsed: 0:28:29.\n",
            "  Batch 3,280  of  4,877.    Elapsed: 0:28:50.\n",
            "  Batch 3,320  of  4,877.    Elapsed: 0:29:11.\n",
            "  Batch 3,360  of  4,877.    Elapsed: 0:29:32.\n",
            "  Batch 3,400  of  4,877.    Elapsed: 0:29:53.\n",
            "  Batch 3,440  of  4,877.    Elapsed: 0:30:14.\n",
            "  Batch 3,480  of  4,877.    Elapsed: 0:30:35.\n",
            "  Batch 3,520  of  4,877.    Elapsed: 0:30:56.\n",
            "  Batch 3,560  of  4,877.    Elapsed: 0:31:17.\n",
            "  Batch 3,600  of  4,877.    Elapsed: 0:31:38.\n",
            "  Batch 3,640  of  4,877.    Elapsed: 0:31:59.\n",
            "  Batch 3,680  of  4,877.    Elapsed: 0:32:21.\n",
            "  Batch 3,720  of  4,877.    Elapsed: 0:32:42.\n",
            "  Batch 3,760  of  4,877.    Elapsed: 0:33:03.\n",
            "  Batch 3,800  of  4,877.    Elapsed: 0:33:24.\n",
            "  Batch 3,840  of  4,877.    Elapsed: 0:33:45.\n",
            "  Batch 3,880  of  4,877.    Elapsed: 0:34:06.\n",
            "  Batch 3,920  of  4,877.    Elapsed: 0:34:27.\n",
            "  Batch 3,960  of  4,877.    Elapsed: 0:34:48.\n",
            "  Batch 4,000  of  4,877.    Elapsed: 0:35:09.\n",
            "  Batch 4,040  of  4,877.    Elapsed: 0:35:30.\n",
            "  Batch 4,080  of  4,877.    Elapsed: 0:35:51.\n",
            "  Batch 4,120  of  4,877.    Elapsed: 0:36:12.\n",
            "  Batch 4,160  of  4,877.    Elapsed: 0:36:33.\n",
            "  Batch 4,200  of  4,877.    Elapsed: 0:36:54.\n",
            "  Batch 4,240  of  4,877.    Elapsed: 0:37:16.\n",
            "  Batch 4,280  of  4,877.    Elapsed: 0:37:37.\n",
            "  Batch 4,320  of  4,877.    Elapsed: 0:37:58.\n",
            "  Batch 4,360  of  4,877.    Elapsed: 0:38:19.\n",
            "  Batch 4,400  of  4,877.    Elapsed: 0:38:40.\n",
            "  Batch 4,440  of  4,877.    Elapsed: 0:39:01.\n",
            "  Batch 4,480  of  4,877.    Elapsed: 0:39:22.\n",
            "  Batch 4,520  of  4,877.    Elapsed: 0:39:43.\n",
            "  Batch 4,560  of  4,877.    Elapsed: 0:40:04.\n",
            "  Batch 4,600  of  4,877.    Elapsed: 0:40:26.\n",
            "  Batch 4,640  of  4,877.    Elapsed: 0:40:47.\n",
            "  Batch 4,680  of  4,877.    Elapsed: 0:41:08.\n",
            "  Batch 4,720  of  4,877.    Elapsed: 0:41:29.\n",
            "  Batch 4,760  of  4,877.    Elapsed: 0:41:50.\n",
            "  Batch 4,800  of  4,877.    Elapsed: 0:42:11.\n",
            "  Batch 4,840  of  4,877.    Elapsed: 0:42:32.\n",
            "\n",
            "  Average training loss: 0.57\n",
            "  Training epcoh took: 0:42:51\n",
            "\n",
            "======== Epoch 4 / 4 ========\n",
            "Training...\n",
            "  Batch    40  of  4,877.    Elapsed: 0:00:21.\n",
            "  Batch    80  of  4,877.    Elapsed: 0:00:42.\n",
            "  Batch   120  of  4,877.    Elapsed: 0:01:03.\n",
            "  Batch   160  of  4,877.    Elapsed: 0:01:24.\n",
            "  Batch   200  of  4,877.    Elapsed: 0:01:46.\n",
            "  Batch   240  of  4,877.    Elapsed: 0:02:07.\n",
            "  Batch   280  of  4,877.    Elapsed: 0:02:28.\n",
            "  Batch   320  of  4,877.    Elapsed: 0:02:49.\n",
            "  Batch   360  of  4,877.    Elapsed: 0:03:10.\n",
            "  Batch   400  of  4,877.    Elapsed: 0:03:31.\n",
            "  Batch   440  of  4,877.    Elapsed: 0:03:52.\n",
            "  Batch   480  of  4,877.    Elapsed: 0:04:13.\n",
            "  Batch   520  of  4,877.    Elapsed: 0:04:34.\n",
            "  Batch   560  of  4,877.    Elapsed: 0:04:55.\n",
            "  Batch   600  of  4,877.    Elapsed: 0:05:16.\n",
            "  Batch   640  of  4,877.    Elapsed: 0:05:38.\n",
            "  Batch   680  of  4,877.    Elapsed: 0:05:59.\n",
            "  Batch   720  of  4,877.    Elapsed: 0:06:20.\n",
            "  Batch   760  of  4,877.    Elapsed: 0:06:41.\n",
            "  Batch   800  of  4,877.    Elapsed: 0:07:02.\n",
            "  Batch   840  of  4,877.    Elapsed: 0:07:23.\n",
            "  Batch   880  of  4,877.    Elapsed: 0:07:44.\n",
            "  Batch   920  of  4,877.    Elapsed: 0:08:05.\n",
            "  Batch   960  of  4,877.    Elapsed: 0:08:26.\n",
            "  Batch 1,000  of  4,877.    Elapsed: 0:08:47.\n",
            "  Batch 1,040  of  4,877.    Elapsed: 0:09:08.\n",
            "  Batch 1,080  of  4,877.    Elapsed: 0:09:30.\n",
            "  Batch 1,120  of  4,877.    Elapsed: 0:09:51.\n",
            "  Batch 1,160  of  4,877.    Elapsed: 0:10:12.\n",
            "  Batch 1,200  of  4,877.    Elapsed: 0:10:33.\n",
            "  Batch 1,240  of  4,877.    Elapsed: 0:10:54.\n",
            "  Batch 1,280  of  4,877.    Elapsed: 0:11:15.\n",
            "  Batch 1,320  of  4,877.    Elapsed: 0:11:36.\n",
            "  Batch 1,360  of  4,877.    Elapsed: 0:11:57.\n",
            "  Batch 1,400  of  4,877.    Elapsed: 0:12:18.\n",
            "  Batch 1,440  of  4,877.    Elapsed: 0:12:39.\n",
            "  Batch 1,480  of  4,877.    Elapsed: 0:13:01.\n",
            "  Batch 1,520  of  4,877.    Elapsed: 0:13:22.\n",
            "  Batch 1,560  of  4,877.    Elapsed: 0:13:43.\n",
            "  Batch 1,600  of  4,877.    Elapsed: 0:14:04.\n",
            "  Batch 1,640  of  4,877.    Elapsed: 0:14:25.\n",
            "  Batch 1,680  of  4,877.    Elapsed: 0:14:46.\n",
            "  Batch 1,720  of  4,877.    Elapsed: 0:15:07.\n",
            "  Batch 1,760  of  4,877.    Elapsed: 0:15:28.\n",
            "  Batch 1,800  of  4,877.    Elapsed: 0:15:49.\n",
            "  Batch 1,840  of  4,877.    Elapsed: 0:16:10.\n",
            "  Batch 1,880  of  4,877.    Elapsed: 0:16:31.\n",
            "  Batch 1,920  of  4,877.    Elapsed: 0:16:53.\n",
            "  Batch 1,960  of  4,877.    Elapsed: 0:17:14.\n",
            "  Batch 2,000  of  4,877.    Elapsed: 0:17:35.\n",
            "  Batch 2,040  of  4,877.    Elapsed: 0:17:56.\n",
            "  Batch 2,080  of  4,877.    Elapsed: 0:18:17.\n",
            "  Batch 2,120  of  4,877.    Elapsed: 0:18:38.\n",
            "  Batch 2,160  of  4,877.    Elapsed: 0:18:59.\n",
            "  Batch 2,200  of  4,877.    Elapsed: 0:19:20.\n",
            "  Batch 2,240  of  4,877.    Elapsed: 0:19:41.\n",
            "  Batch 2,280  of  4,877.    Elapsed: 0:20:03.\n",
            "  Batch 2,320  of  4,877.    Elapsed: 0:20:24.\n",
            "  Batch 2,360  of  4,877.    Elapsed: 0:20:45.\n",
            "  Batch 2,400  of  4,877.    Elapsed: 0:21:06.\n",
            "  Batch 2,440  of  4,877.    Elapsed: 0:21:27.\n",
            "  Batch 2,480  of  4,877.    Elapsed: 0:21:48.\n",
            "  Batch 2,520  of  4,877.    Elapsed: 0:22:09.\n",
            "  Batch 2,560  of  4,877.    Elapsed: 0:22:30.\n",
            "  Batch 2,600  of  4,877.    Elapsed: 0:22:51.\n",
            "  Batch 2,640  of  4,877.    Elapsed: 0:23:12.\n",
            "  Batch 2,680  of  4,877.    Elapsed: 0:23:33.\n",
            "  Batch 2,720  of  4,877.    Elapsed: 0:23:54.\n",
            "  Batch 2,760  of  4,877.    Elapsed: 0:24:15.\n",
            "  Batch 2,800  of  4,877.    Elapsed: 0:24:36.\n",
            "  Batch 2,840  of  4,877.    Elapsed: 0:24:58.\n",
            "  Batch 2,880  of  4,877.    Elapsed: 0:25:19.\n",
            "  Batch 2,920  of  4,877.    Elapsed: 0:25:40.\n",
            "  Batch 2,960  of  4,877.    Elapsed: 0:26:01.\n",
            "  Batch 3,000  of  4,877.    Elapsed: 0:26:22.\n",
            "  Batch 3,040  of  4,877.    Elapsed: 0:26:43.\n",
            "  Batch 3,080  of  4,877.    Elapsed: 0:27:04.\n",
            "  Batch 3,120  of  4,877.    Elapsed: 0:27:25.\n",
            "  Batch 3,160  of  4,877.    Elapsed: 0:27:46.\n",
            "  Batch 3,200  of  4,877.    Elapsed: 0:28:07.\n",
            "  Batch 3,240  of  4,877.    Elapsed: 0:28:28.\n",
            "  Batch 3,280  of  4,877.    Elapsed: 0:28:50.\n",
            "  Batch 3,320  of  4,877.    Elapsed: 0:29:11.\n",
            "  Batch 3,360  of  4,877.    Elapsed: 0:29:32.\n",
            "  Batch 3,400  of  4,877.    Elapsed: 0:29:53.\n",
            "  Batch 3,440  of  4,877.    Elapsed: 0:30:14.\n",
            "  Batch 3,480  of  4,877.    Elapsed: 0:30:35.\n",
            "  Batch 3,520  of  4,877.    Elapsed: 0:30:56.\n",
            "  Batch 3,560  of  4,877.    Elapsed: 0:31:17.\n",
            "  Batch 3,600  of  4,877.    Elapsed: 0:31:38.\n",
            "  Batch 3,640  of  4,877.    Elapsed: 0:32:00.\n",
            "  Batch 3,680  of  4,877.    Elapsed: 0:32:21.\n",
            "  Batch 3,720  of  4,877.    Elapsed: 0:32:42.\n",
            "  Batch 3,760  of  4,877.    Elapsed: 0:33:03.\n",
            "  Batch 3,800  of  4,877.    Elapsed: 0:33:24.\n",
            "  Batch 3,840  of  4,877.    Elapsed: 0:33:45.\n",
            "  Batch 3,880  of  4,877.    Elapsed: 0:34:06.\n",
            "  Batch 3,920  of  4,877.    Elapsed: 0:34:27.\n",
            "  Batch 3,960  of  4,877.    Elapsed: 0:34:48.\n",
            "  Batch 4,000  of  4,877.    Elapsed: 0:35:09.\n",
            "  Batch 4,040  of  4,877.    Elapsed: 0:35:30.\n",
            "  Batch 4,080  of  4,877.    Elapsed: 0:35:51.\n",
            "  Batch 4,120  of  4,877.    Elapsed: 0:36:13.\n",
            "  Batch 4,160  of  4,877.    Elapsed: 0:36:34.\n",
            "  Batch 4,200  of  4,877.    Elapsed: 0:36:55.\n",
            "  Batch 4,240  of  4,877.    Elapsed: 0:37:16.\n",
            "  Batch 4,280  of  4,877.    Elapsed: 0:37:37.\n",
            "  Batch 4,320  of  4,877.    Elapsed: 0:37:58.\n",
            "  Batch 4,360  of  4,877.    Elapsed: 0:38:19.\n",
            "  Batch 4,400  of  4,877.    Elapsed: 0:38:41.\n",
            "  Batch 4,440  of  4,877.    Elapsed: 0:39:02.\n",
            "  Batch 4,480  of  4,877.    Elapsed: 0:39:23.\n",
            "  Batch 4,520  of  4,877.    Elapsed: 0:39:44.\n",
            "  Batch 4,560  of  4,877.    Elapsed: 0:40:05.\n",
            "  Batch 4,600  of  4,877.    Elapsed: 0:40:26.\n",
            "  Batch 4,640  of  4,877.    Elapsed: 0:40:47.\n",
            "  Batch 4,680  of  4,877.    Elapsed: 0:41:08.\n",
            "  Batch 4,720  of  4,877.    Elapsed: 0:41:29.\n",
            "  Batch 4,760  of  4,877.    Elapsed: 0:41:50.\n",
            "  Batch 4,800  of  4,877.    Elapsed: 0:42:11.\n",
            "  Batch 4,840  of  4,877.    Elapsed: 0:42:32.\n",
            "\n",
            "  Average training loss: 0.51\n",
            "  Training epcoh took: 0:42:52\n",
            "\n",
            "Training complete!\n",
            "Total training took 2:51:14 (h:mm:ss)\n"
          ],
          "name": "stdout"
        }
      ]
    },
    {
      "cell_type": "code",
      "metadata": {
        "id": "O8vT9lN_VOjk",
        "colab_type": "code",
        "outputId": "bdb44284-a8d2-4f5c-85e7-34617cbcf0b4",
        "colab": {
          "base_uri": "https://localhost:8080/",
          "height": 204
        }
      },
      "source": [
        "import pandas as pd\n",
        "\n",
        "# Display floats with two decimal places.\n",
        "pd.set_option('precision', 2)\n",
        "\n",
        "# Create a DataFrame from our training statistics.\n",
        "df_stats = pd.DataFrame(data=training_stats)\n",
        "\n",
        "# Use the 'epoch' as the row index.\n",
        "df_stats = df_stats.set_index('epoch')\n",
        "\n",
        "# A hack to force the column headers to wrap.\n",
        "#df = df.style.set_table_styles([dict(selector=\"th\",props=[('max-width', '70px')])])\n",
        "\n",
        "# Display the table.\n",
        "df_stats"
      ],
      "execution_count": 0,
      "outputs": [
        {
          "output_type": "execute_result",
          "data": {
            "text/html": [
              "<div>\n",
              "<style scoped>\n",
              "    .dataframe tbody tr th:only-of-type {\n",
              "        vertical-align: middle;\n",
              "    }\n",
              "\n",
              "    .dataframe tbody tr th {\n",
              "        vertical-align: top;\n",
              "    }\n",
              "\n",
              "    .dataframe thead th {\n",
              "        text-align: right;\n",
              "    }\n",
              "</style>\n",
              "<table border=\"1\" class=\"dataframe\">\n",
              "  <thead>\n",
              "    <tr style=\"text-align: right;\">\n",
              "      <th></th>\n",
              "      <th>Training Loss</th>\n",
              "      <th>Training Time</th>\n",
              "    </tr>\n",
              "    <tr>\n",
              "      <th>epoch</th>\n",
              "      <th></th>\n",
              "      <th></th>\n",
              "    </tr>\n",
              "  </thead>\n",
              "  <tbody>\n",
              "    <tr>\n",
              "      <th>1</th>\n",
              "      <td>0.78</td>\n",
              "      <td>0:42:40</td>\n",
              "    </tr>\n",
              "    <tr>\n",
              "      <th>2</th>\n",
              "      <td>0.65</td>\n",
              "      <td>0:42:50</td>\n",
              "    </tr>\n",
              "    <tr>\n",
              "      <th>3</th>\n",
              "      <td>0.57</td>\n",
              "      <td>0:42:51</td>\n",
              "    </tr>\n",
              "    <tr>\n",
              "      <th>4</th>\n",
              "      <td>0.51</td>\n",
              "      <td>0:42:52</td>\n",
              "    </tr>\n",
              "  </tbody>\n",
              "</table>\n",
              "</div>"
            ],
            "text/plain": [
              "       Training Loss Training Time\n",
              "epoch                             \n",
              "1               0.78       0:42:40\n",
              "2               0.65       0:42:50\n",
              "3               0.57       0:42:51\n",
              "4               0.51       0:42:52"
            ]
          },
          "metadata": {
            "tags": []
          },
          "execution_count": 63
        }
      ]
    },
    {
      "cell_type": "code",
      "metadata": {
        "id": "eFOYhwOLVWmm",
        "colab_type": "code",
        "outputId": "bfe1a5d9-05a4-4e69-e626-37941a797c4f",
        "colab": {
          "base_uri": "https://localhost:8080/",
          "height": 427
        }
      },
      "source": [
        "#We do not have validation labels t\n",
        "import matplotlib.pyplot as plt\n",
        "% matplotlib inline\n",
        "\n",
        "import seaborn as sns\n",
        "\n",
        "# Use plot styling from seaborn.\n",
        "sns.set(style='darkgrid')\n",
        "\n",
        "# Increase the plot size and font size.\n",
        "sns.set(font_scale=1.5)\n",
        "plt.rcParams[\"figure.figsize\"] = (12,6)\n",
        "\n",
        "# Plot the learning curve.\n",
        "plt.plot(df_stats['Training Loss'], 'b-o', label=\"Training\")\n",
        "# plt.plot(df_stats['Valid. Loss'], 'g-o', label=\"Validation\")\n",
        "\n",
        "# Label the plot.\n",
        "plt.title(\"Training Loss\")\n",
        "plt.xlabel(\"Epoch\")\n",
        "plt.ylabel(\"Loss\")\n",
        "plt.legend()\n",
        "plt.xticks([1, 2, 3, 4])\n",
        "\n",
        "plt.show()"
      ],
      "execution_count": 0,
      "outputs": [
        {
          "output_type": "display_data",
          "data": {
            "image/png": "[encoded data removed]",
            "text/plain": [
              "<Figure size 864x432 with 1 Axes>"
            ]
          },
          "metadata": {
            "tags": []
          }
        }
      ]
    },
    {
      "cell_type": "code",
      "metadata": {
        "id": "60uJ0z5X_ybO",
        "colab_type": "code",
        "outputId": "de677e09-6bfb-4636-9aae-2e46abfa9019",
        "colab": {
          "base_uri": "https://localhost:8080/",
          "height": 51
        }
      },
      "source": [
        "# Prediction on test set\n",
        "\n",
        "print('Predicting labels for {:,} test sentences...'.format(len(val_inputs)))\n",
        "\n",
        "# Put model in evaluation mode\n",
        "model.eval()\n",
        "\n",
        "# Tracking variables \n",
        "predictions = []\n",
        "\n",
        "# Predict \n",
        "for batch in val_dataloader:\n",
        "  # Add batch to GPU\n",
        "  batch = tuple(t.to(device) for t in batch)\n",
        "  \n",
        "  # Unpack the inputs from our dataloader\n",
        "  b_input_ids, b_input_mask = batch\n",
        "  \n",
        "  # Telling the model not to compute or store gradients, saving memory and \n",
        "  # speeding up prediction\n",
        "  with torch.no_grad():\n",
        "      # Forward pass, calculate logit predictions\n",
        "      outputs = model(b_input_ids, token_type_ids=None, \n",
        "                      attention_mask=b_input_mask)\n",
        "\n",
        "  logits = outputs[0]\n",
        "\n",
        "  # Move logits and labels to CPU\n",
        "  logits = logits.detach().cpu().numpy()\n",
        "  # label_ids = b_labels.to('cpu').numpy()\n",
        "  \n",
        "  # Store predictions and true labels\n",
        "  predictions.append(logits)\n",
        "  # true_labels.append(label_ids)\n",
        "\n",
        "print('    DONE.')"
      ],
      "execution_count": 0,
      "outputs": [
        {
          "output_type": "stream",
          "text": [
            "Predicting labels for 66,292 test sentences...\n",
            "    DONE.\n"
          ],
          "name": "stdout"
        }
      ]
    },
    {
      "cell_type": "code",
      "metadata": {
        "id": "JCIW87IFZKp8",
        "colab_type": "code",
        "outputId": "09864135-fcbc-4fe8-c793-e9e1e1e76613",
        "colab": {
          "base_uri": "https://localhost:8080/",
          "height": 34
        }
      },
      "source": [
        "import itertools\n",
        "y_pred = []\n",
        "for i in range(len(predictions)):\n",
        "  \n",
        "  # The predictions for this batch are a 5-column ndarray with a row for each batch (32). \n",
        "  #Pick the label with the highest value and consider the index = class\n",
        "  pred_labels_i = list(np.argmax(predictions[i], axis=1))\n",
        "  y_pred.append(pred_labels_i)\n",
        "\n",
        "y_pred = list(itertools.chain.from_iterable(y_pred))\n",
        "y_pred[0:5]"
      ],
      "execution_count": 0,
      "outputs": [
        {
          "output_type": "execute_result",
          "data": {
            "text/plain": [
              "[2, 2, 2, 2, 2]"
            ]
          },
          "metadata": {
            "tags": []
          },
          "execution_count": 66
        }
      ]
    },
    {
      "cell_type": "code",
      "metadata": {
        "id": "zsT-2TG5eDzs",
        "colab_type": "code",
        "outputId": "60461829-b18f-4779-daa5-80c037594938",
        "colab": {
          "base_uri": "https://localhost:8080/",
          "height": 122
        }
      },
      "source": [
        "from google.colab import drive\n",
        "drive.mount('/drive')"
      ],
      "execution_count": 0,
      "outputs": [
        {
          "output_type": "stream",
          "text": [
            "Go to this URL in a browser: https://accounts.google.com/o/oauth2/auth?client_id=947318989803-6bn6qk8qdgf4n4g3pfee6491hc0brc4i.apps.googleusercontent.com&redirect_uri=urn%3aietf%3awg%3aoauth%3a2.0%3aoob&response_type=code&scope=email%20https%3a%2f%2fwww.googleapis.com%2fauth%2fdocs.test%20https%3a%2f%2fwww.googleapis.com%2fauth%2fdrive%20https%3a%2f%2fwww.googleapis.com%2fauth%2fdrive.photos.readonly%20https%3a%2f%2fwww.googleapis.com%2fauth%2fpeopleapi.readonly\n",
            "\n",
            "Enter your authorization code:\n",
            "··········\n",
            "Mounted at /drive\n"
          ],
          "name": "stdout"
        }
      ]
    },
    {
      "cell_type": "code",
      "metadata": {
        "id": "sLCurel7fgLF",
        "colab_type": "code",
        "colab": {}
      },
      "source": [
        "final = pd.DataFrame()\n",
        "final['PhraseId'] = X_test['PhraseId']\n",
        "final['Sentiment'] = y_pred\n",
        "\n",
        "final.to_csv('/drive/My Drive/submission.csv', index = False)"
      ],
      "execution_count": 0,
      "outputs": []
    }
  ]
}
